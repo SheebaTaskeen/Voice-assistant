{
 "cells": [
  {
   "cell_type": "code",
   "execution_count": null,
   "id": "04c5abe3-239a-40dc-bff4-a22e9310b822",
   "metadata": {},
   "outputs": [
    {
     "name": "stdout",
     "output_type": "stream",
     "text": [
      "Speaking: Hello, how can I assist you today?\n",
      "Listening...\n"
     ]
    }
   ],
   "source": [
    "import speech_recognition as sr\n",
    "import pyttsx3\n",
    "recognizer = sr.Recognizer()\n",
    "engine = pyttsx3.init()\n",
    "def speak(text):\n",
    "    print(f\"Speaking: {text}\")  \n",
    "    engine.say(text)\n",
    "    engine.runAndWait()\n",
    "def listen():\n",
    "    with sr.Microphone() as source:\n",
    "        print(\"Listening...\")  \n",
    "        recognizer.adjust_for_ambient_noise(source)\n",
    "        audio = recognizer.listen(source)\n",
    "        try:\n",
    "            print(\"Recognizing...\") \n",
    "            text = recognizer.recognize_google(audio)\n",
    "            print(f\"You said: {text}\")  \n",
    "            return text.lower()\n",
    "        except sr.UnknownValueError:\n",
    "            speak(\"Sorry, I didn't understand that.\")\n",
    "            return \"\"\n",
    "        except sr.RequestError:\n",
    "            speak(\"Sorry, I'm having trouble connecting.\")\n",
    "            return \"\"\n",
    "def main():\n",
    "    speak(\"Hello, how can I assist you today?\")\n",
    "    while True:\n",
    "        command = listen()\n",
    "        if \"hello\" in command:\n",
    "            speak(\"Hello! How are you?\")\n",
    "        elif \"exit\" in command or \"quit\" in command:\n",
    "            speak(\"Goodbye!\")\n",
    "            break        \n",
    "        else:\n",
    "            speak(\"I can only respond to simple commands like 'hello' and 'exit'.\")\n",
    "if __name__ == \"__main__\":\n",
    "    main()\n"
   ]
  },
  {
   "cell_type": "code",
   "execution_count": null,
   "id": "2ed81618-6e71-45de-8cb1-424838b86a64",
   "metadata": {},
   "outputs": [],
   "source": [
    "voices = engine.getProperty('voices')\n",
    "engine.setProperty('voice', voices[1].id)  # Change to another voice if necessary\n"
   ]
  },
  {
   "cell_type": "code",
   "execution_count": null,
   "id": "6e4444af-50d3-4fa2-85fa-9e5152b04ef5",
   "metadata": {},
   "outputs": [],
   "source": []
  }
 ],
 "metadata": {
  "kernelspec": {
   "display_name": "Python 3 (ipykernel)",
   "language": "python",
   "name": "python3"
  },
  "language_info": {
   "codemirror_mode": {
    "name": "ipython",
    "version": 3
   },
   "file_extension": ".py",
   "mimetype": "text/x-python",
   "name": "python",
   "nbconvert_exporter": "python",
   "pygments_lexer": "ipython3",
   "version": "3.12.7"
  }
 },
 "nbformat": 4,
 "nbformat_minor": 5
}
